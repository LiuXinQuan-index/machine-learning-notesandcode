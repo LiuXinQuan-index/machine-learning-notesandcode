{
 "cells": [
  {
   "cell_type": "code",
   "execution_count": null,
   "metadata": {},
   "outputs": [],
   "source": [
    "import tensorflow as tf\n",
    "from tensorflow.keras import metrics"
   ]
  },
  {
   "cell_type": "markdown",
   "metadata": {},
   "source": [
    "## 测量工具\n",
    "在网络的训练过程中，经常需要统计准确率，召回率等信息，除了可以通过手动计算并平均方式获取统计数据外， Keras 提供了一些常用的测量工具 keras.metrics，专门用于统计训练过程中需要的指标数据。"
   ]
  },
  {
   "cell_type": "code",
   "execution_count": null,
   "metadata": {},
   "outputs": [],
   "source": [
    "# 新建平均测量器，适合loss数据\n",
    "loss_meter = metrics.Mean()"
   ]
  },
  {
   "cell_type": "code",
   "execution_count": null,
   "metadata": {},
   "outputs": [],
   "source": [
    "# 记录采样的数据\n",
    "loss_meter.update_state(float(loss))"
   ]
  },
  {
   "cell_type": "code",
   "execution_count": null,
   "metadata": {},
   "outputs": [],
   "source": [
    "# 打印统计的平均loss\n",
    "print(step, 'loss：', loss_meter.result())"
   ]
  },
  {
   "cell_type": "code",
   "execution_count": null,
   "metadata": {},
   "outputs": [],
   "source": [
    "# 清除数据\n",
    "if step % 100 == 0:\n",
    "    print(step, 'loss：', loss_meter.result())\n",
    "    \n",
    "    # 清零测量器\n",
    "    loss_meter.reset_states()"
   ]
  },
  {
   "cell_type": "markdown",
   "metadata": {},
   "source": [
    "### 准确率统计实战"
   ]
  },
  {
   "cell_type": "code",
   "execution_count": null,
   "metadata": {},
   "outputs": [],
   "source": [
    "acc_meter = metrics.Accuracy()\n",
    "pred = tf.argmax(out, axis = 1)\n",
    "pred = tf.cast(pred, dtype = tf.int32)\n",
    "acc_meter(update_state(y, pred))\n",
    "print(step, 'Evaluate Acc：', acc_meter.result().numpy())\n",
    "acc_meter.reset_states()"
   ]
  }
 ],
 "metadata": {
  "kernelspec": {
   "display_name": "Python 3",
   "language": "python",
   "name": "python3"
  },
  "language_info": {
   "codemirror_mode": {
    "name": "ipython",
    "version": 3
   },
   "file_extension": ".py",
   "mimetype": "text/x-python",
   "name": "python",
   "nbconvert_exporter": "python",
   "pygments_lexer": "ipython3",
   "version": "3.6.12"
  }
 },
 "nbformat": 4,
 "nbformat_minor": 4
}
