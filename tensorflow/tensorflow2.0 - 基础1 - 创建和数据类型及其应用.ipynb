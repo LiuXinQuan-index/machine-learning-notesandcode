{
 "cells": [
  {
   "cell_type": "markdown",
   "metadata": {},
   "source": [
    "## 1.创建\n",
    "### 1.1 数值类型\n",
    "- 标量，维度为0，如1，2，3.4\n",
    "- 向量，维度为1，如[1，2]，[3.2，5.4]，长度为n\n",
    "- 矩阵，维度为2，如[[1,2],[3,4]]，形状为n*m\n",
    "- 张量（tensor），所有维度数>2的数组统称为张量\n",
    "- 在tensorflow中，我们将标量，向量，矩阵都称为张量"
   ]
  },
  {
   "cell_type": "code",
   "execution_count": 1,
   "metadata": {},
   "outputs": [],
   "source": [
    "import tensorflow as tf\n",
    "import numpy as np"
   ]
  },
  {
   "cell_type": "code",
   "execution_count": 2,
   "metadata": {},
   "outputs": [],
   "source": [
    "# 创建标量, dtype为保存精度，有int16, int32, float16, float32, float64等\n",
    "a = tf.constant(1, dtype = tf.int16)\n",
    "# 创建一个向量\n",
    "b = tf.constant([1,2,3])\n",
    "# 创建一个矩阵\n",
    "c = tf.constant([[1,2],[3,4]], dtype = tf.float32)\n",
    "# 创建一个张量\n",
    "d = tf.constant([[[1,2],[3,4]],[[5,6], [7,8]]])"
   ]
  },
  {
   "cell_type": "code",
   "execution_count": 3,
   "metadata": {},
   "outputs": [
    {
     "data": {
      "text/plain": [
       "(tensorflow.python.framework.ops.EagerTensor, True, True, True, True)"
      ]
     },
     "execution_count": 3,
     "metadata": {},
     "output_type": "execute_result"
    }
   ],
   "source": [
    "# 判断是否是张量\n",
    "type(a), tf.is_tensor(a), tf.is_tensor(b), tf.is_tensor(c), tf.is_tensor(d)"
   ]
  },
  {
   "cell_type": "code",
   "execution_count": 4,
   "metadata": {},
   "outputs": [
    {
     "data": {
      "text/plain": [
       "(<tf.Tensor: id=0, shape=(), dtype=int16, numpy=1>,\n",
       " <tf.Tensor: id=1, shape=(3,), dtype=int32, numpy=array([1, 2, 3])>,\n",
       " <tf.Tensor: id=2, shape=(2, 2), dtype=float32, numpy=\n",
       " array([[1., 2.],\n",
       "        [3., 4.]], dtype=float32)>,\n",
       " <tf.Tensor: id=3, shape=(2, 2, 2), dtype=int32, numpy=\n",
       " array([[[1, 2],\n",
       "         [3, 4]],\n",
       " \n",
       "        [[5, 6],\n",
       "         [7, 8]]])>)"
      ]
     },
     "execution_count": 4,
     "metadata": {},
     "output_type": "execute_result"
    }
   ],
   "source": [
    "# 变量信息\n",
    "a, b, c, d"
   ]
  },
  {
   "cell_type": "markdown",
   "metadata": {},
   "source": [
    "id是tensorflow中内部索引对象的编号，shape是张量的形状，dtype表示张量的数值精度，张量numpy()方法可以返回numpy.array"
   ]
  },
  {
   "cell_type": "code",
   "execution_count": 5,
   "metadata": {},
   "outputs": [
    {
     "data": {
      "text/plain": [
       "(array(1, dtype=int16),\n",
       " array([1, 2, 3]),\n",
       " array([[1., 2.],\n",
       "        [3., 4.]], dtype=float32),\n",
       " array([[[1, 2],\n",
       "         [3, 4]],\n",
       " \n",
       "        [[5, 6],\n",
       "         [7, 8]]]))"
      ]
     },
     "execution_count": 5,
     "metadata": {},
     "output_type": "execute_result"
    }
   ],
   "source": [
    "np.array(a), np.array(b), np.array(c), np.array(d)"
   ]
  },
  {
   "cell_type": "code",
   "execution_count": 6,
   "metadata": {
    "scrolled": false
   },
   "outputs": [
    {
     "data": {
      "text/plain": [
       "(1,\n",
       " array([1, 2, 3]),\n",
       " array([[1., 2.],\n",
       "        [3., 4.]], dtype=float32),\n",
       " array([[[1, 2],\n",
       "         [3, 4]],\n",
       " \n",
       "        [[5, 6],\n",
       "         [7, 8]]]))"
      ]
     },
     "execution_count": 6,
     "metadata": {},
     "output_type": "execute_result"
    }
   ],
   "source": [
    "a.numpy(), b.numpy(), c.numpy(), d.numpy()"
   ]
  },
  {
   "cell_type": "code",
   "execution_count": 7,
   "metadata": {},
   "outputs": [
    {
     "data": {
      "text/plain": [
       "(tf.int16, tf.float32)"
      ]
     },
     "execution_count": 7,
     "metadata": {},
     "output_type": "execute_result"
    }
   ],
   "source": [
    "# 通过dtype查看保存属性\n",
    "a.dtype, c.dtype"
   ]
  },
  {
   "cell_type": "code",
   "execution_count": 8,
   "metadata": {},
   "outputs": [
    {
     "data": {
      "text/plain": [
       "tf.float64"
      ]
     },
     "execution_count": 8,
     "metadata": {},
     "output_type": "execute_result"
    }
   ],
   "source": [
    "# 通过tf.cast转换保存精度\n",
    "c = tf.cast(c, tf.float64)\n",
    "c.dtype"
   ]
  },
  {
   "cell_type": "markdown",
   "metadata": {},
   "source": [
    "### 1.2 字符串类型\n",
    "tf.strings提供了很多字符串类型的工具"
   ]
  },
  {
   "cell_type": "code",
   "execution_count": 9,
   "metadata": {
    "scrolled": true
   },
   "outputs": [
    {
     "data": {
      "text/plain": [
       "<tf.Tensor: id=5, shape=(), dtype=string, numpy=b'Hello World'>"
      ]
     },
     "execution_count": 9,
     "metadata": {},
     "output_type": "execute_result"
    }
   ],
   "source": [
    "e = tf.constant('Hello World')\n",
    "e"
   ]
  },
  {
   "cell_type": "code",
   "execution_count": 10,
   "metadata": {},
   "outputs": [
    {
     "data": {
      "text/plain": [
       "<tf.Tensor: id=6, shape=(), dtype=string, numpy=b'hello world'>"
      ]
     },
     "execution_count": 10,
     "metadata": {},
     "output_type": "execute_result"
    }
   ],
   "source": [
    "tf.strings.lower(e)"
   ]
  },
  {
   "cell_type": "markdown",
   "metadata": {},
   "source": [
    "### 1.3 布尔类型"
   ]
  },
  {
   "cell_type": "code",
   "execution_count": 11,
   "metadata": {},
   "outputs": [],
   "source": [
    "f = tf.constant(True)\n",
    "g = tf.constant([True, False])"
   ]
  },
  {
   "cell_type": "code",
   "execution_count": 12,
   "metadata": {},
   "outputs": [
    {
     "data": {
      "text/plain": [
       "(<tf.Tensor: id=7, shape=(), dtype=bool, numpy=True>,\n",
       " <tf.Tensor: id=8, shape=(2,), dtype=bool, numpy=array([ True, False])>)"
      ]
     },
     "execution_count": 12,
     "metadata": {},
     "output_type": "execute_result"
    }
   ],
   "source": [
    "f, g"
   ]
  },
  {
   "cell_type": "code",
   "execution_count": 13,
   "metadata": {},
   "outputs": [
    {
     "data": {
      "text/plain": [
       "(<tf.Tensor: id=9, shape=(), dtype=int16, numpy=1>,\n",
       " <tf.Tensor: id=10, shape=(2, 2), dtype=bool, numpy=\n",
       " array([[ True,  True],\n",
       "        [ True,  True]])>)"
      ]
     },
     "execution_count": 13,
     "metadata": {},
     "output_type": "execute_result"
    }
   ],
   "source": [
    "# 布尔类型也可以与整形转换，在tensorflow中，不是0的数字都是True\n",
    "h = tf.cast(f, tf.int16)\n",
    "i = tf.cast(c, tf.bool)\n",
    "h,i"
   ]
  },
  {
   "cell_type": "markdown",
   "metadata": {},
   "source": [
    "### 1.4 待优化张量\n",
    "使用tf.Variable或者GradientTape.watch()方法将张量设置为待优化的张量，这样就可以自动计算梯度信息"
   ]
  },
  {
   "cell_type": "code",
   "execution_count": 14,
   "metadata": {},
   "outputs": [
    {
     "data": {
      "text/plain": [
       "('Variable:0', True)"
      ]
     },
     "execution_count": 14,
     "metadata": {},
     "output_type": "execute_result"
    }
   ],
   "source": [
    "# 使用tf.Variable将一个张量加入待更新列表中\n",
    "cc = tf.Variable(c)\n",
    "cc.name, cc.trainable"
   ]
  },
  {
   "cell_type": "code",
   "execution_count": 15,
   "metadata": {},
   "outputs": [
    {
     "name": "stdout",
     "output_type": "stream",
     "text": [
      "tf.Tensor(10.0, shape=(), dtype=float32) tf.Tensor(16.0, shape=(), dtype=float32)\n"
     ]
    }
   ],
   "source": [
    "# 使用GradientTape.watch()方法\n",
    "# 创建张量\n",
    "a = tf.constant(1.)\n",
    "b = tf.constant(2.)\n",
    "c = tf.constant(3.)\n",
    "w = tf.constant(4.)\n",
    "\n",
    "# 构建梯度环境\n",
    "with tf.GradientTape() as tape:\n",
    "    # 将w和a加入梯度跟踪列表，这样之后计算梯度时可以计算w和a，但是无法计算b和c\n",
    "    tape.watch([w, a]) \n",
    "    y = a * w ** 2 + b * w + c # 公式\n",
    "\n",
    "# 对w和a分别进行求导，但是GradientTape.gradient只能call一次\n",
    "[dy_dw, dy_da] = tape.gradient(y, [w, a])\n",
    "print(dy_dw, dy_da)"
   ]
  },
  {
   "cell_type": "markdown",
   "metadata": {},
   "source": [
    "### 1.5 将numpy adarray和python list转换成tensor"
   ]
  },
  {
   "cell_type": "code",
   "execution_count": 16,
   "metadata": {},
   "outputs": [
    {
     "data": {
      "text/plain": [
       "(<tf.Tensor: id=39, shape=(3,), dtype=int32, numpy=array([1, 2, 3])>,\n",
       " <tf.Tensor: id=40, shape=(3,), dtype=int32, numpy=array([1, 2, 3])>)"
      ]
     },
     "execution_count": 16,
     "metadata": {},
     "output_type": "execute_result"
    }
   ],
   "source": [
    "a = tf.convert_to_tensor([1,2,3])\n",
    "b = tf.constant([1,2,3])\n",
    "a,b"
   ]
  },
  {
   "cell_type": "markdown",
   "metadata": {},
   "source": [
    "可以发现两个方法的结果是一样的，我们使用其中一个就可以了"
   ]
  },
  {
   "cell_type": "markdown",
   "metadata": {},
   "source": [
    "### 1.6 创建全0，全1张量"
   ]
  },
  {
   "cell_type": "code",
   "execution_count": 17,
   "metadata": {},
   "outputs": [
    {
     "data": {
      "text/plain": [
       "(<tf.Tensor: id=43, shape=(1, 2, 3), dtype=float32, numpy=\n",
       " array([[[0., 0., 0.],\n",
       "         [0., 0., 0.]]], dtype=float32)>,\n",
       " <tf.Tensor: id=46, shape=(1, 2, 3), dtype=float32, numpy=\n",
       " array([[[1., 1., 1.],\n",
       "         [1., 1., 1.]]], dtype=float32)>)"
      ]
     },
     "execution_count": 17,
     "metadata": {},
     "output_type": "execute_result"
    }
   ],
   "source": [
    "# 创建全0\n",
    "a = tf.zeros([1,2,3])\n",
    "\n",
    "# 创建全1\n",
    "b = tf.ones([1,2,3])\n",
    "a, b"
   ]
  },
  {
   "cell_type": "code",
   "execution_count": 18,
   "metadata": {},
   "outputs": [
    {
     "data": {
      "text/plain": [
       "(<tf.Tensor: id=47, shape=(1, 2, 3), dtype=float32, numpy=\n",
       " array([[[0., 0., 0.],\n",
       "         [0., 0., 0.]]], dtype=float32)>,\n",
       " <tf.Tensor: id=50, shape=(1, 2, 3), dtype=float32, numpy=\n",
       " array([[[1., 1., 1.],\n",
       "         [1., 1., 1.]]], dtype=float32)>)"
      ]
     },
     "execution_count": 18,
     "metadata": {},
     "output_type": "execute_result"
    }
   ],
   "source": [
    "# 创建一个与一个矩阵形状相同的全0和全1\n",
    "c = tf.zeros_like(b)\n",
    "d = tf.ones_like(a)\n",
    "c, d"
   ]
  },
  {
   "cell_type": "code",
   "execution_count": 19,
   "metadata": {},
   "outputs": [
    {
     "data": {
      "text/plain": [
       "<tf.Tensor: id=53, shape=(1, 2, 3), dtype=float32, numpy=\n",
       "array([[[0., 0., 0.],\n",
       "        [0., 0., 0.]]], dtype=float32)>"
      ]
     },
     "execution_count": 19,
     "metadata": {},
     "output_type": "execute_result"
    }
   ],
   "source": [
    "# 也可以通过.shape来实现\n",
    "e = tf.zeros(c.shape)\n",
    "e"
   ]
  },
  {
   "cell_type": "markdown",
   "metadata": {},
   "source": [
    "### 1.7 创建自定义数值的张量"
   ]
  },
  {
   "cell_type": "code",
   "execution_count": 20,
   "metadata": {},
   "outputs": [
    {
     "data": {
      "text/plain": [
       "<tf.Tensor: id=56, shape=(1, 2, 3), dtype=int32, numpy=\n",
       "array([[[100, 100, 100],\n",
       "        [100, 100, 100]]])>"
      ]
     },
     "execution_count": 20,
     "metadata": {},
     "output_type": "execute_result"
    }
   ],
   "source": [
    "a = tf.fill([1,2,3], 100)\n",
    "a"
   ]
  },
  {
   "cell_type": "markdown",
   "metadata": {},
   "source": [
    "### 1.8 创建已知分布的张量"
   ]
  },
  {
   "cell_type": "code",
   "execution_count": 21,
   "metadata": {},
   "outputs": [
    {
     "data": {
      "text/plain": [
       "<tf.Tensor: id=62, shape=(1, 2, 3), dtype=float32, numpy=\n",
       "array([[[ 0.3895052 ,  9.308348  ,  0.54359734],\n",
       "        [-0.84032714,  2.4388733 ,  0.03512162]]], dtype=float32)>"
      ]
     },
     "execution_count": 21,
     "metadata": {},
     "output_type": "execute_result"
    }
   ],
   "source": [
    "# 创建符合正态分布的张量（从正态分布中进行随机抽样形成的张量）\n",
    "tf.random.normal([1,2,3], mean = 1, stddev = 4)"
   ]
  },
  {
   "cell_type": "markdown",
   "metadata": {},
   "source": [
    "这是从一个三维的正态分布中进行随机抽样形成的张量，它们的均值为1，标准差为4"
   ]
  },
  {
   "cell_type": "code",
   "execution_count": 22,
   "metadata": {},
   "outputs": [
    {
     "data": {
      "text/plain": [
       "<tf.Tensor: id=69, shape=(1, 2, 3), dtype=float32, numpy=\n",
       "array([[[6.4818516, 8.837896 , 1.3831772],\n",
       "        [4.213144 , 4.9849396, 9.014647 ]]], dtype=float32)>"
      ]
     },
     "execution_count": 22,
     "metadata": {},
     "output_type": "execute_result"
    }
   ],
   "source": [
    "# 创建均匀分布的张量\n",
    "tf.random.uniform([1,2,3], maxval = 10, minval = 1)"
   ]
  },
  {
   "cell_type": "markdown",
   "metadata": {},
   "source": [
    "也可以指定仅采样整形，这时加上dtype = tf.int32就行了"
   ]
  },
  {
   "cell_type": "markdown",
   "metadata": {},
   "source": [
    "### 1.9 创建序列"
   ]
  },
  {
   "cell_type": "code",
   "execution_count": 23,
   "metadata": {},
   "outputs": [
    {
     "data": {
      "text/plain": [
       "<tf.Tensor: id=73, shape=(5,), dtype=int32, numpy=array([1, 3, 5, 7, 9])>"
      ]
     },
     "execution_count": 23,
     "metadata": {},
     "output_type": "execute_result"
    }
   ],
   "source": [
    "tf.range(1, 10, delta = 2)"
   ]
  },
  {
   "cell_type": "markdown",
   "metadata": {},
   "source": [
    "从1开始，步长为2，最大为10的序列"
   ]
  },
  {
   "cell_type": "markdown",
   "metadata": {},
   "source": [
    "## 2.数值的用途\n",
    "### 2.1 标量\n",
    "标量主要用于误差值和各种测量指标的表示，比如：\n",
    "- 准确度\n",
    "- 精度\n",
    "- 召回率\n",
    "- ……\n",
    "\n",
    "### 2.2 向量\n",
    "\n",
    "- 偏置向量b\n",
    "- ……\n",
    "\n",
    "### 2.3 矩阵\n",
    "- 全连接层的批量输入\n",
    "- ……\n",
    "\n",
    "### 2.4 3维张量\n",
    "- 序列信号\n",
    "- ……\n",
    "\n",
    "### 2.5 4维张量\n",
    "- 特征图\n",
    "- ……"
   ]
  }
 ],
 "metadata": {
  "kernelspec": {
   "display_name": "Python 3",
   "language": "python",
   "name": "python3"
  },
  "language_info": {
   "codemirror_mode": {
    "name": "ipython",
    "version": 3
   },
   "file_extension": ".py",
   "mimetype": "text/x-python",
   "name": "python",
   "nbconvert_exporter": "python",
   "pygments_lexer": "ipython3",
   "version": "3.6.12"
  }
 },
 "nbformat": 4,
 "nbformat_minor": 4
}
