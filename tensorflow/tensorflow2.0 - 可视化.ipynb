{
 "cells": [
  {
   "cell_type": "code",
   "execution_count": null,
   "metadata": {},
   "outputs": [],
   "source": [
    "import tensorflow as tf"
   ]
  },
  {
   "cell_type": "markdown",
   "metadata": {},
   "source": [
    "## 可视化\n",
    "在网络训练的过程中，通过 Web 端监控网络的训练进度，可视化网络的训练结果对于提高开发效率是非常重要的。 TensorFlow 提供了一个专门的可视化工具，叫做TensorBoard\n",
    "### 1. 模型端"
   ]
  },
  {
   "cell_type": "code",
   "execution_count": null,
   "metadata": {},
   "outputs": [],
   "source": [
    "# 创建监控类，监控数据将写入log_dir目录\n",
    "summary_writer = tf.summary.create_file_writer(log_dir)"
   ]
  },
  {
   "cell_type": "code",
   "execution_count": null,
   "metadata": {},
   "outputs": [],
   "source": [
    "# 对于标量\n",
    "with summary_writer.as_default():\n",
    "    # 当前时间step上的数据为loss，将loss写入到'train_loss'id位中\n",
    "    tf.summary.scalar('train_loss', float(loss), step = step)"
   ]
  },
  {
   "cell_type": "markdown",
   "metadata": {},
   "source": [
    "TensorBoard 通过字符串 ID 来区分不同类别的监控数据，因此对于误差数据，我们将它命名为”train-loss”，其他类的数据不可写入此对象，防止数据污染。"
   ]
  },
  {
   "cell_type": "code",
   "execution_count": null,
   "metadata": {},
   "outputs": [],
   "source": [
    "# 对于图片类数据\n",
    "with summary_writer.as_default():\n",
    "    # 写入测试准确率\n",
    "    tf.summary.scalar('test_acc', float(total_correct/total), step = step)\n",
    "    # 写入可视化的图片\n",
    "    tf.summary.image('val_onebyone_images:', val_images, max_outputs = 9, step = step)"
   ]
  },
  {
   "cell_type": "code",
   "execution_count": null,
   "metadata": {},
   "outputs": [],
   "source": [
    "# 写入张量的数据直方图分布\n",
    "tf.summary.histogram('y_hist', y, step = step)"
   ]
  },
  {
   "cell_type": "code",
   "execution_count": null,
   "metadata": {},
   "outputs": [],
   "source": [
    "# 写入文本信息\n",
    "tf.summary.text('loss_text', str(float(loss)))"
   ]
  },
  {
   "cell_type": "markdown",
   "metadata": {},
   "source": [
    "### 2. 浏览器端\n",
    "在运行程序时，通过运行 tensorboard --logdir path 指定 Web 后端监控的文件目录 path，此时打开浏览器，并输入网址 http://localhost:6006 (也可以通过 IP 地址远程访问， 具体端口号可能会变动，可查看命令提示) 即可监控网络训练进度。"
   ]
  }
 ],
 "metadata": {
  "kernelspec": {
   "display_name": "Python 3",
   "language": "python",
   "name": "python3"
  },
  "language_info": {
   "codemirror_mode": {
    "name": "ipython",
    "version": 3
   },
   "file_extension": ".py",
   "mimetype": "text/x-python",
   "name": "python",
   "nbconvert_exporter": "python",
   "pygments_lexer": "ipython3",
   "version": "3.6.12"
  }
 },
 "nbformat": 4,
 "nbformat_minor": 4
}
