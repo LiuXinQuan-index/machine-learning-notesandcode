{
 "cells": [
  {
   "cell_type": "code",
   "execution_count": 2,
   "metadata": {},
   "outputs": [],
   "source": [
    "import tensorflow as tf"
   ]
  },
  {
   "cell_type": "markdown",
   "metadata": {},
   "source": [
    "## 反向传播算法\n",
    "### 1. 链式法则"
   ]
  },
  {
   "cell_type": "code",
   "execution_count": 15,
   "metadata": {},
   "outputs": [
    {
     "data": {
      "text/plain": [
       "(<tf.Tensor: id=281, shape=(), dtype=bool, numpy=True>,\n",
       " <tf.Tensor: id=283, shape=(), dtype=bool, numpy=True>)"
      ]
     },
     "execution_count": 15,
     "metadata": {},
     "output_type": "execute_result"
    }
   ],
   "source": [
    "# 使用tensorflow说明链式法则\n",
    "# 构建待优化变量\n",
    "x = tf.constant(1.)\n",
    "w1 = tf.constant(2.)\n",
    "b1 = tf.constant(1.)\n",
    "w2 = tf.constant(2.)\n",
    "b2 = tf.constant(1.)\n",
    "\n",
    "# 构建梯度记录器，默认情况下只能调用一次\n",
    "# 如果需要多次调用，persistent = True\n",
    "with tf.GradientTape(persistent = True) as tape:\n",
    "    \n",
    "    # 如果张量是非tf.Variable类型，需要人为设置记录梯度信息\n",
    "    tape.watch([w1, b1, w2, b2])\n",
    "    \n",
    "    # 构建2层线性网络\n",
    "    y1 = x * w1 + b1\n",
    "    y2 = y1 * w2 + b2\n",
    "\n",
    "# 独立求出各个偏导数\n",
    "dy2_dy1 = tape.gradient(y2, [y1])\n",
    "dy1_dw1 = tape.gradient(y1, [w1])\n",
    "dy2_dw1 = tape.gradient(y2, [w1])\n",
    "dy2_dw2 = tape.gradient(y2, [w2])\n",
    "dy1_db1 = tape.gradient(y1, [b1])\n",
    "dy2_db1 = tape.gradient(y2, [b1])\n",
    "\n",
    "# 查看链式法则是否成立\n",
    "dy1_dw1[0] * dy2_dw1[0] == dy2_dw1[0], \\\n",
    "dy1_db1[0] * dy2_dw1[0] == dy2_db1[0]"
   ]
  },
  {
   "cell_type": "code",
   "execution_count": 18,
   "metadata": {},
   "outputs": [
    {
     "data": {
      "text/plain": [
       "(<tf.Tensor: id=25885, shape=(2,), dtype=float32, numpy=array([ 3.5844283, -1.8481264], dtype=float32)>,\n",
       " <tf.Tensor: id=25852, shape=(), dtype=float32, numpy=2.2737368e-13>)"
      ]
     },
     "execution_count": 18,
     "metadata": {},
     "output_type": "execute_result"
    }
   ],
   "source": [
    "# 实现一个Himmelblau优化算法\n",
    "# 函数\n",
    "def himmelblau(x):\n",
    "    return (x[0] ** 2 + x[1] - 11) ** 2 + (x[0] + x[1] ** 2 - 7) ** 2\n",
    "\n",
    "# 初始化参数\n",
    "x = tf.constant([4., 0.])\n",
    "\n",
    "# 循环优化\n",
    "for step in range(200):\n",
    "    \n",
    "    # 梯度跟踪\n",
    "    with tf.GradientTape() as tape:\n",
    "        tape.watch([x])\n",
    "        y = himmelblau(x)\n",
    "    # 反向传播，计算梯度\n",
    "    grads = tape.gradient(y, [x])[0]\n",
    "    \n",
    "    # 更新参数\n",
    "    x -= 0.01 * grads\n",
    "\n",
    "# 打印结果\n",
    "x, y"
   ]
  }
 ],
 "metadata": {
  "kernelspec": {
   "display_name": "Python 3",
   "language": "python",
   "name": "python3"
  },
  "language_info": {
   "codemirror_mode": {
    "name": "ipython",
    "version": 3
   },
   "file_extension": ".py",
   "mimetype": "text/x-python",
   "name": "python",
   "nbconvert_exporter": "python",
   "pygments_lexer": "ipython3",
   "version": "3.6.12"
  }
 },
 "nbformat": 4,
 "nbformat_minor": 4
}
