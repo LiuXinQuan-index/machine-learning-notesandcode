{
 "cells": [
  {
   "cell_type": "code",
   "execution_count": 15,
   "metadata": {},
   "outputs": [],
   "source": [
    "import tensorflow as tf\n",
    "from tensorflow.keras import layers, Sequential"
   ]
  },
  {
   "cell_type": "markdown",
   "metadata": {},
   "source": [
    "## 自定义类\n",
    "尽管 Keras 提供了很多的常用网络层，但深度学习可以使用的网络层远远不止这些经典的网络层， 对于需要创建自定义逻辑的网络层，可以通过自定义类来实现。在创建自定义网络层类时，需要继承自 layers.Layer 基类； 创建自定义的网络类，需要继承自keras.Model 基类， 这样产生的自定义类才能够方便的利用 Layer/Model 基类提供的参数管理功能，同时也能够与其他的标准网络层类交互使用。\n",
    "\n",
    "### 1. 自定义网络层"
   ]
  },
  {
   "cell_type": "code",
   "execution_count": 34,
   "metadata": {},
   "outputs": [],
   "source": [
    "# 首先创建类并继承自 Layer 基类\n",
    "class MyDense(layers.Layer):\n",
    "    \n",
    "    # 自定义网络层\n",
    "    # inp_dim和outp_dim是输入特征长度和输出特征长度\n",
    "    def __init__(self, inp_dim, outp_dim):         \n",
    "        super(MyDense, self).__init__()\n",
    "        \n",
    "        # 创建权值张量并添加到类管理列表中，设置为需要优化\n",
    "        self.kernel = self.add_weight('w', [inp_dim, outp_dim], trainable = True)"
   ]
  },
  {
   "cell_type": "code",
   "execution_count": 35,
   "metadata": {},
   "outputs": [
    {
     "data": {
      "text/plain": [
       "([<tf.Variable 'w:0' shape=(4, 3) dtype=float32, numpy=\n",
       "  array([[ 0.38847828, -0.4745888 , -0.6601857 ],\n",
       "         [ 0.7912593 ,  0.16498911, -0.3669604 ],\n",
       "         [ 0.08805931, -0.49543437, -0.8042041 ],\n",
       "         [ 0.5179688 ,  0.8228445 ,  0.02395856]], dtype=float32)>],\n",
       " [<tf.Variable 'w:0' shape=(4, 3) dtype=float32, numpy=\n",
       "  array([[ 0.38847828, -0.4745888 , -0.6601857 ],\n",
       "         [ 0.7912593 ,  0.16498911, -0.3669604 ],\n",
       "         [ 0.08805931, -0.49543437, -0.8042041 ],\n",
       "         [ 0.5179688 ,  0.8228445 ,  0.02395856]], dtype=float32)>])"
      ]
     },
     "execution_count": 35,
     "metadata": {},
     "output_type": "execute_result"
    }
   ],
   "source": [
    "# 创建输入为4，输出为3节点的自定义层\n",
    "net = MyDense(4, 3)\n",
    "net.variables, net.trainable_variables"
   ]
  },
  {
   "cell_type": "markdown",
   "metadata": {},
   "source": [
    "完成自定义类的初始化工作后，我们来设计自定义类的前项运算逻辑，比如需要完成𝑂=𝑋@𝑊矩阵运算，并通过激活函数。"
   ]
  },
  {
   "cell_type": "code",
   "execution_count": 12,
   "metadata": {},
   "outputs": [],
   "source": [
    "# 自定义类的前向计算逻辑\n",
    "def call(self, inputs, training = None):\n",
    "    out = inputs @ self.kernel\n",
    "    out = tf.nn.relu(out)\n",
    "    return out"
   ]
  },
  {
   "cell_type": "markdown",
   "metadata": {},
   "source": [
    "自定义类的前向运算逻辑需要实现在 call(inputs, training)函数中，其中 inputs 代表输入， 由用户在调用时传入； training 参数用于指定模型的状态： training 为 True 时执行训练模式， training 为 False 时执行测试模式，默认参数为 None，即测试模式。由于全连接层的训练模式和测试模式逻辑一致，此处不需要额外处理。对于部份测试模式和训练模式不一致的网络层，需要根据 training 参数来设计需要执行的逻辑。\n",
    "\n",
    "### 2. 自定义网络"
   ]
  },
  {
   "cell_type": "code",
   "execution_count": 17,
   "metadata": {},
   "outputs": [
    {
     "name": "stdout",
     "output_type": "stream",
     "text": [
      "Model: \"sequential_1\"\n",
      "_________________________________________________________________\n",
      "Layer (type)                 Output Shape              Param #   \n",
      "=================================================================\n",
      "my_dense_7 (MyDense)         multiple                  200704    \n",
      "_________________________________________________________________\n",
      "my_dense_8 (MyDense)         multiple                  32768     \n",
      "_________________________________________________________________\n",
      "my_dense_9 (MyDense)         multiple                  1280      \n",
      "=================================================================\n",
      "Total params: 234,752\n",
      "Trainable params: 234,752\n",
      "Non-trainable params: 0\n",
      "_________________________________________________________________\n"
     ]
    }
   ],
   "source": [
    "network = Sequential([\n",
    "    MyDense(784, 256), \n",
    "    MyDense(256, 128), \n",
    "    MyDense(128, 10)\n",
    "])\n",
    "network.build(input_shape = (None, 28*28))\n",
    "network.summary()"
   ]
  },
  {
   "cell_type": "markdown",
   "metadata": {},
   "source": [
    "### 3. 自定义网络类"
   ]
  },
  {
   "cell_type": "code",
   "execution_count": 18,
   "metadata": {},
   "outputs": [],
   "source": [
    "class MyModel(tf.keras.Model):\n",
    "    \n",
    "    def __init__(self):\n",
    "        super(MyModel, self).__init__()\n",
    "    \n",
    "        self.fc1 = MyDense(28*28, 256)\n",
    "        self.fc2 = MyDense(256, 128)\n",
    "        self.fc3 = MyDense(128, 10)\n",
    "        \n",
    "    def call(self, inputs, training = None):\n",
    "        x = self.fc1(inputs)\n",
    "        x = self.fc2(x)\n",
    "        x = self.fc3(x)\n",
    "        return x\n",
    "    "
   ]
  },
  {
   "cell_type": "code",
   "execution_count": null,
   "metadata": {},
   "outputs": [],
   "source": []
  }
 ],
 "metadata": {
  "kernelspec": {
   "display_name": "Python 3",
   "language": "python",
   "name": "python3"
  },
  "language_info": {
   "codemirror_mode": {
    "name": "ipython",
    "version": 3
   },
   "file_extension": ".py",
   "mimetype": "text/x-python",
   "name": "python",
   "nbconvert_exporter": "python",
   "pygments_lexer": "ipython3",
   "version": "3.6.12"
  }
 },
 "nbformat": 4,
 "nbformat_minor": 4
}
