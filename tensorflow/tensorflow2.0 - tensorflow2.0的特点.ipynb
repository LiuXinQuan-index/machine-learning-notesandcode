{
 "cells": [
  {
   "cell_type": "markdown",
   "metadata": {},
   "source": [
    "## 功能演示\n",
    "### 1.加速计算\n",
    "- 加速计算需要用到GPU，因为电脑无法做到，这里不做演示"
   ]
  },
  {
   "cell_type": "markdown",
   "metadata": {},
   "source": [
    "- 神经网络本质上由大量的矩阵相乘，矩阵相加等基本数学运算构成， Tensorflow的重要功能就是利用GPU方便地实现并行计算加速功能。"
   ]
  },
  {
   "cell_type": "code",
   "execution_count": 14,
   "metadata": {},
   "outputs": [],
   "source": [
    "import tensorflow as tf\n",
    "import numpy as np\n",
    "import pandas as pd"
   ]
  },
  {
   "cell_type": "code",
   "execution_count": 25,
   "metadata": {},
   "outputs": [
    {
     "name": "stdout",
     "output_type": "stream",
     "text": [
      "/job:localhost/replica:0/task:0/device:CPU:0 /job:localhost/replica:0/task:0/device:CPU:0\n"
     ]
    }
   ],
   "source": [
    "# 使用cpu\n",
    "n = 10\n",
    "with tf.device('/cpu: 0'):  # 这一步表示使用cpu进行计算\n",
    "    \n",
    "    # tf.random.normal表示按照标准正态分布随机产生，[1,n]表示产生的随机矩阵的形状\n",
    "    cpu_a =tf.random.normal([1, n])  \n",
    "    cpu_b =tf.random.normal([n, 1])\n",
    "    \n",
    "    # 查看两个矩阵使用的device\n",
    "    print(cpu_a.device, cpu_b.device)"
   ]
  },
  {
   "cell_type": "code",
   "execution_count": 28,
   "metadata": {},
   "outputs": [
    {
     "ename": "SyntaxError",
     "evalue": "unexpected EOF while parsing (<ipython-input-28-352c15df8193>, line 2)",
     "output_type": "error",
     "traceback": [
      "\u001b[1;36m  File \u001b[1;32m\"<ipython-input-28-352c15df8193>\"\u001b[1;36m, line \u001b[1;32m2\u001b[0m\n\u001b[1;33m    with tf.device('/gpu: 0'):\u001b[0m\n\u001b[1;37m                              ^\u001b[0m\n\u001b[1;31mSyntaxError\u001b[0m\u001b[1;31m:\u001b[0m unexpected EOF while parsing\n"
     ]
    }
   ],
   "source": [
    "# 如果要使用gpu\n",
    "with tf.device('/gpu: 0'):"
   ]
  },
  {
   "cell_type": "code",
   "execution_count": 41,
   "metadata": {},
   "outputs": [],
   "source": [
    "# 在tf中实现矩阵相乘\n",
    "c = tf.matmul(cpu_b, cpu_a)"
   ]
  },
  {
   "cell_type": "code",
   "execution_count": 43,
   "metadata": {},
   "outputs": [
    {
     "data": {
      "text/plain": [
       "0.010046100000003833"
      ]
     },
     "execution_count": 43,
     "metadata": {},
     "output_type": "execute_result"
    }
   ],
   "source": [
    "# 想要得到计算用时\n",
    "import timeit\n",
    "def cpu_run():\n",
    "    with tf.device('/cpu: 0'):\n",
    "        c = tf.matmul(cpu_b, cpu_a)\n",
    "    return c\n",
    "# 这里Number是指进行100次，取平均时间，这样就可以对比cpu和gpu的运行时间了\n",
    "timeit.timeit(cpu_run, number = 100)"
   ]
  },
  {
   "cell_type": "markdown",
   "metadata": {},
   "source": [
    "### 2.自动梯度\n",
    "- 偏导数可以不用手动推导，tensorflow可以自动得出"
   ]
  },
  {
   "cell_type": "code",
   "execution_count": 55,
   "metadata": {},
   "outputs": [
    {
     "name": "stdout",
     "output_type": "stream",
     "text": [
      "tf.Tensor(10.0, shape=(), dtype=float32) tf.Tensor(16.0, shape=(), dtype=float32)\n"
     ]
    }
   ],
   "source": [
    "# 创建张量\n",
    "a = tf.constant(1.)\n",
    "b = tf.constant(2.)\n",
    "c = tf.constant(3.)\n",
    "w = tf.constant(4.)\n",
    "\n",
    "# 构建梯度环境\n",
    "with tf.GradientTape() as tape:\n",
    "    # 将w和a加入梯度跟踪列表，这样之后计算梯度时可以计算w和a，但是无法计算b和c\n",
    "    tape.watch([w, a]) \n",
    "    y = a * w ** 2 + b * w + c # 公式\n",
    "\n",
    "# 对w和a分别进行求导，但是GradientTape.gradient只能call一次\n",
    "[dy_dw, dy_da] = tape.gradient(y, [w, a])\n",
    "print(dy_dw, dy_da)"
   ]
  },
  {
   "cell_type": "markdown",
   "metadata": {},
   "source": [
    "### 3.常用神经网络接口\n",
    "- Tensorflow除了提供底层的矩阵相乘，相加等运算函数，还内建了常用网络运算函数，常用网络层，网络训练，网络保存与加载，网络部署等一系列深度学习系统的便捷功能。使用 Tensorelow开发网络，可以方便地利用这些功能完成常用业务流程，高效稳定。"
   ]
  },
  {
   "cell_type": "code",
   "execution_count": null,
   "metadata": {},
   "outputs": [],
   "source": []
  }
 ],
 "metadata": {
  "kernelspec": {
   "display_name": "Python 3",
   "language": "python",
   "name": "python3"
  },
  "language_info": {
   "codemirror_mode": {
    "name": "ipython",
    "version": 3
   },
   "file_extension": ".py",
   "mimetype": "text/x-python",
   "name": "python",
   "nbconvert_exporter": "python",
   "pygments_lexer": "ipython3",
   "version": "3.6.12"
  }
 },
 "nbformat": 4,
 "nbformat_minor": 4
}
